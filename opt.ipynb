{
 "cells": [
  {
   "cell_type": "code",
   "execution_count": 6,
   "id": "5abadb4a",
   "metadata": {},
   "outputs": [],
   "source": [
    "import gurobipy as gp\n",
    "import numpy as np\n",
    "from gurobipy import GRB\n",
    "import time\n",
    "import matplotlib.pyplot as plt\n",
    "import math\n",
    "import networkx as nx\n",
    "from sklearn.linear_model import LinearRegression"
   ]
  },
  {
   "cell_type": "code",
   "execution_count": 92,
   "id": "87509544",
   "metadata": {},
   "outputs": [],
   "source": [
    "def cpm(N,S,T):\n",
    "    temp=[]\n",
    "    for i in range(N-1):\n",
    "        for k in S[i]:\n",
    "            temp.append((i,k,{\"cost\":T[i,0]}))\n",
    "    DG = nx.DiGraph(temp)\n",
    "    temp=nx.dag_longest_path(DG)\n",
    "    s=0\n",
    "    for i in temp:\n",
    "        s=s+T[i][0]\n",
    "    return int(s)"
   ]
  },
  {
   "cell_type": "code",
   "execution_count": 142,
   "id": "ce1e6cea-44b3-4889-a39d-71dbc8ca23b1",
   "metadata": {},
   "outputs": [
    {
     "ename": "SyntaxError",
     "evalue": "invalid syntax (333705000.py, line 107)",
     "output_type": "error",
     "traceback": [
      "\u001b[0;36m  Input \u001b[0;32mIn [142]\u001b[0;36m\u001b[0m\n\u001b[0;31m    model.addConstrs(I[k]==MU*gp.quicksum(EV[i,t] for t in range(k-R+1,k+1) for i in range(N)) for in range(R,(math.ceil(Wmax/R)+1)*R,R) #equation 29\u001b[0m\n\u001b[0m                                                                                                   ^\u001b[0m\n\u001b[0;31mSyntaxError\u001b[0m\u001b[0;31m:\u001b[0m invalid syntax\n"
     ]
    }
   ],
   "source": [
    "#Model has fixed size\n",
    "def model(J,H,N):\n",
    "    np.random.seed(2022)\n",
    "######################DATA PREPARATION######################\n",
    "    env = gp.Env(empty=True)\n",
    "    #env.setParam(\"OutputFlag\",0)\n",
    "    env.start()\n",
    "\n",
    "\n",
    "    model=gp.Model(env=env)\n",
    "    FOC=100+np.random.rand()*(1000-100)\n",
    "    MOB=2000+np.random.rand()*(20000-2000)\n",
    "    OB=np.random.rand()\n",
    "    OP=np.random.rand()\n",
    "    OV=np.random.rand()\n",
    "    AP=5000+(50000-5000)*np.random.rand()\n",
    "    \n",
    "   \n",
    "#Parameters taken by the data (r1)\n",
    "    \n",
    "    S=np.zeros(N, dtype=object)\n",
    "    for i in range(N-1):\n",
    "        temp=np.random.randint(0,N-i-1,1)\n",
    "        S[i]=sorted(np.random.randint(i+1,N,temp).tolist())\n",
    "    S[N-1]=[]\n",
    "    M=np.zeros(N, dtype=object)\n",
    "    for i in range(N):\n",
    "        M[i]=[0,1,2]\n",
    "    T=np.zeros([N,3],dtype=np.int64)\n",
    "    for i in range(N):\n",
    "        T[i,0]=np.random.randint(1,5,1)\n",
    "        for j in range(1,3):\n",
    "            T[i,j]=np.random.randint(T[i,0],5,1)\n",
    "        C=np.zeros([N,3],dtype=np.int64)\n",
    "    for i in range(N):\n",
    "        for j in range(3):\n",
    "            C[i][j]=np.random.randint(1,5,1)\n",
    "    MMF=np.zeros([N,3],dtype=np.int64)\n",
    "    for i in range(N):\n",
    "        for j in range(3):\n",
    "            MMF[i,j]=C[i,0]/C[i,j]\n",
    "    print(S[0])\n",
    "    Wmin=cpm(N,S,T)\n",
    "    Wmax=Wmin+J\n",
    "\n",
    "    if H==0:\n",
    "        #W=model.addVar(name=\"W\")\n",
    "        CL=18000\n",
    "    \n",
    "    if H==1:\n",
    "        CL=model.addVar(name=\"CL\",lb=0)\n",
    "        W=model.addVar(name=\"W\")\n",
    "\n",
    "    if H==2:\n",
    "        #W=Wmax\n",
    "        CL=18000\n",
    "\n",
    "    if H==3:\n",
    "        #W=Wmax\n",
    "        CL=18000\n",
    "\n",
    "    \n",
    "    \n",
    "    LP=np.random.randint(1,Wmax)\n",
    "    LR=np.random.randint(1,Wmax)\n",
    "    R=np.random.randint(1,Wmax)\n",
    "    RP=np.random.rand()\n",
    "    rW=np.random.rand()\n",
    "    V=np.random.randint(1,Wmax)\n",
    "\n",
    "\n",
    "    DCsum=np.sum(C[:,0])#Equation 1 \n",
    "    VOCsum=OV*DCsum# Equation 2\n",
    "    FOCsum=DCsum*Wmax# Equation 3\n",
    "    PM=OP*(DCsum+VOCsum+FOCsum+MOB)#Equation 4\n",
    "    BC=OB*(DCsum+VOCsum+FOCsum+MOB+PM)#Equation 5\n",
    "    BP=DCsum+VOCsum+FOCsum+MOB+PM+BC#Equation 6\n",
    "    MU=BP/DCsum#Equation 7\n",
    "\n",
    "          \n",
    "    \n",
    "    #Equation from 7 to 20 are not in the model and equation from 21 to 22 are not used because of the fixed sizde\n",
    "    x = model.addVars(N,N,Wmax+1, vtype=GRB.BINARY, name=\"x\") #equation 45\n",
    "    DC = model.addVars(N,Wmax+1, name=\"dc\")\n",
    "    EV = model.addVars(N,math.ceil(Wmax/R)*R+1, name=\"ev\")\n",
    "    TE = model.addVars(Wmax+1, name=\"te\")\n",
    "    I = model.addVars(math.ceil(Wmax/R)*R+1, name=\"I\")\n",
    "    P = model.addVars(math.ceil(Wmax/R)*R+LP+1, name=\"P\")\n",
    "    K=math.ceil(Wmax/R)\n",
    "    y = model.addVars(K+1, vtype=GRB.BINARY, name=\"y\")#equation 47\n",
    "    temp=model.addVar(vtype=GRB.BINARY, name=\"temp\")\n",
    "    Mg=model.addVar(name=\"Mg\")\n",
    "    Z=model.addVar(name=\"Z\")\n",
    "    IB = model.addVars(Wmax+1, name=\"IB\")\n",
    "    B = model.addVars(Wmax+1, name=\"B\")\n",
    "    IL = model.addVars(Wmax+1, name=\"IL\") \n",
    "    alpha= model.addVars(Wmax+1, vtype=GRB.BINARY, name=\"alpha\") #equation 48\n",
    "\n",
    "    model.addConstrs(gp.quicksum(x[i,j,k] for j in M[i] for k in range(1,Wmax+1))==1 for i in range(N))#equation 23\n",
    "    #model.addConstrs(gp.quicksum((k+T[i,j])*x[i,j,k] for j in M[i] for k in range(1,Wmax+1))<gp.quicksum(k*x[q,j,k] for j in M[q] for k in range(1,Wmax+1)) for q in S[i] for i in range(N)) #equation 24\n",
    "    #model.addConstrs(gp.quicksum((k+T[i,j])*x[i,j,k] for j in M[i] for k in range(1,Wmax+1))<=W for i in range(N) if len(S[i])==0) #equation 25\n",
    "    #model.addConstrs(DC[i,k]==gp.quicksum(C[i,j]/T[i,j]*x[i,j,t] for t in range(max(1,k-T[i,j]),k+1) for j in M[i]) for i in range(N) for k in range(1,Wmax+1)) #equation 26\n",
    "    #model.addConstrs(TE[k]==FOC+(1+OV)*gp.quicksum(DC[i,k] for i in range(N)) for k in range(1,Wmax+1)) #equation 27\n",
    "    #model.addConstr(TE[0]==MOB+BC)\n",
    "    #model.addConstrs(EV[i,k]==gp.quicksum(MMF[i,j]*DC[i,k] for j in M[i] for t in range(max(1,k-T[i,j]),k+1)) for i in range(N) for k in range(1,Wmax+1)) #equation 28\n",
    "    #model.addConstrs(EV[i,k]==0 for i in range(N) for k in range(Wmax+1,math.ceil(Wmax/R)*R+1)) #equation 28\n",
    "    model.addConstrs(I[k]==MU*gp.quicksum(EV[i,t] for t in range(k-R+1,k+1) for i in range(N)) for in range(R,(math.ceil(Wmax/R)+1)*R,R) #equation 29\n",
    "    #model.addConstrs(I[k]==0 for k in set(range(math.ceil(Wmax/R)*R))-set(templist))k in range(R,math.ceil(Wmax/R)*R,R)\n",
    "    #templist=[k for k in range(R+LP,math.ceil(Wmax/R)*R,R)]\n",
    "    #templist.append(math.ceil(Wmax/R)*R+LP)\n",
    "    #model.addConstrs(P[k]==RP*I[k-LP]-gp.quicksum(AP*y[n]/n for n in range(1,K+1)) for k in templist) #equation 30\n",
    "    #model.addConstrs(P[k]==0 for k in set(range(math.ceil(Wmax/R)*R+LP+1))-set(templist)) \n",
    "    #model.addConstr(R*Z>=W) #equation 31\n",
    "    #model.addConstr(R*Z<=W+R-1) #equation 32\n",
    "    #model.addConstr(gp.quicksum(n*y[n] for n in range(K+1))==Z) #equation 33-34\n",
    "    #model.addConstr(B[0]==AP-TE[0]) #equation 35\n",
    "    #model.addConstrs(B[k]==B[k-1]-TE[k]+P[k-1]-IB[k] for k in range(1,Wmax+1)) #equation 36\n",
    "    #templist=[k for k in range(V,Wmax,V)]\n",
    "    #templist.append(Wmax)\n",
    "    #model.addConstrs(IB[k]==rW*gp.quicksum(IL[t] for t in range(max(1,k-V+1),k+1)) for k in templist) #equation 37\n",
    "    #model.addConstrs(B[k-1]-TE[k-1]<=(1-alpha[k])*Mg for k in range(1,Wmax+1))#equation 38\n",
    "    #model.addConstrs(B[k-1]-TE[k-1]>=-alpha[k]*Mg for k in range(1,Wmax+1))#equation 39\n",
    "    #model.addConstrs(IL[k]>=0  for k in range(1,Wmax+1))\n",
    "    #model.addConstrs(IL[k]>=-(B[k-1]-TE[k])+(alpha[k]-1)*Mg for k in range(1,Wmax+1)) #equation 41\n",
    "    #model.addConstrs(IL[k]<=-(B[k-1]-TE[k])+(1-alpha[k])*Mg for k in range(1,Wmax+1)) #equation 42\n",
    "    #model.addConstrs(IL[k]<=alpha[k]*Mg  for k in range(1,Wmax+1))#equation 43\n",
    "    #model.addConstrs(B[k]<=CL for k in range(1,Wmax+1))\n",
    "    #model.addConstr(Z>=0) \n",
    "    #model.addConstr(Z<=Mg)\n",
    " \n",
    "    if H==0:\n",
    "        print(\"ciao\")\n",
    "        #model.setObjective(W,GRB.MINIMIZE)   \n",
    "\n",
    "    if H==1:\n",
    "        model.setObjective(CL,GRB.MINIMIZE)   \n",
    "    \n",
    "    if H==2:\n",
    "        model.setObjective(gp.quicksum(TE[k] for k in range(1,Wmax+1)), GRB.MINIMIZE)\n",
    "        \n",
    "    if H==3:\n",
    "        model.setObjective(B[Wmax], GRB.MAXIMIZE)\n",
    "    model.optimize()\n",
    "\n"
   ]
  },
  {
   "cell_type": "code",
   "execution_count": 143,
   "id": "bc082205-1fd6-4fbc-ad79-46ea8f5a9ca8",
   "metadata": {},
   "outputs": [
    {
     "name": "stdout",
     "output_type": "stream",
     "text": [
      "Set parameter Username\n",
      "Academic license - for non-commercial use only - expires 2023-05-06\n",
      "[2, 7, 9, 9, 12, 12, 15, 17, 17]\n",
      "Gurobi Optimizer version 9.5.1 build v9.5.1rc2 (linux64)\n",
      "Thread count: 2 physical cores, 4 logical processors, using up to 4 threads\n",
      "Optimize a model with 20 rows, 9875 columns and 1260 nonzeros\n",
      "Model fingerprint: 0x803d0f4e\n",
      "Model has 11 quadratic constraints\n",
      "Variable types: 1040 continuous, 8835 integer (8835 binary)\n",
      "Coefficient statistics:\n",
      "  Matrix range     [1e+00, 1e+00]\n",
      "  QMatrix range    [1e+00, 1e+00]\n",
      "  QLMatrix range   [1e+00, 3e+02]\n",
      "  Objective range  [1e+00, 1e+00]\n",
      "  Bounds range     [1e+00, 1e+00]\n",
      "  RHS range        [1e+00, 1e+00]\n",
      "Presolve removed 20 rows and 9423 columns\n",
      "Presolve time: 0.00s\n",
      "\n",
      "Explored 0 nodes (0 simplex iterations) in 0.02 seconds (0.00 work units)\n",
      "Thread count was 1 (of 4 available processors)\n",
      "\n",
      "Solution count 0\n",
      "\n",
      "Best objective -, best bound -, gap -\n"
     ]
    },
    {
     "ename": "GurobiError",
     "evalue": "Quadratic equality constraints are non-convex. Set NonConvex parameter to 2 to solve model.",
     "output_type": "error",
     "traceback": [
      "\u001b[0;31m---------------------------------------------------------------------------\u001b[0m",
      "\u001b[0;31mGurobiError\u001b[0m                               Traceback (most recent call last)",
      "Input \u001b[0;32mIn [143]\u001b[0m, in \u001b[0;36m<cell line: 1>\u001b[0;34m()\u001b[0m\n\u001b[0;32m----> 1\u001b[0m \u001b[43mmodel\u001b[49m\u001b[43m(\u001b[49m\u001b[38;5;241;43m0\u001b[39;49m\u001b[43m,\u001b[49m\u001b[38;5;241;43m0\u001b[39;49m\u001b[43m,\u001b[49m\u001b[38;5;241;43m20\u001b[39;49m\u001b[43m)\u001b[49m\n",
      "Input \u001b[0;32mIn [122]\u001b[0m, in \u001b[0;36mmodel\u001b[0;34m(J, H, N)\u001b[0m\n\u001b[1;32m    142\u001b[0m \u001b[38;5;28;01mif\u001b[39;00m H\u001b[38;5;241m==\u001b[39m\u001b[38;5;241m3\u001b[39m:\n\u001b[1;32m    143\u001b[0m     model\u001b[38;5;241m.\u001b[39msetObjective(B[Wmax], GRB\u001b[38;5;241m.\u001b[39mMAXIMIZE)\n\u001b[0;32m--> 144\u001b[0m \u001b[43mmodel\u001b[49m\u001b[38;5;241;43m.\u001b[39;49m\u001b[43moptimize\u001b[49m\u001b[43m(\u001b[49m\u001b[43m)\u001b[49m\n",
      "File \u001b[0;32msrc/gurobipy/model.pxi:864\u001b[0m, in \u001b[0;36mgurobipy.Model.optimize\u001b[0;34m()\u001b[0m\n",
      "\u001b[0;31mGurobiError\u001b[0m: Quadratic equality constraints are non-convex. Set NonConvex parameter to 2 to solve model."
     ]
    }
   ],
   "source": [
    "model(0,0,20)"
   ]
  },
  {
   "cell_type": "code",
   "execution_count": null,
   "id": "8d3b4d20",
   "metadata": {},
   "outputs": [],
   "source": []
  },
  {
   "cell_type": "code",
   "execution_count": null,
   "id": "f452600c",
   "metadata": {},
   "outputs": [],
   "source": []
  },
  {
   "cell_type": "code",
   "execution_count": null,
   "id": "9841ec06-da8c-4aee-918f-6e5f5300fd99",
   "metadata": {},
   "outputs": [],
   "source": []
  },
  {
   "cell_type": "code",
   "execution_count": null,
   "id": "27b1a804-372e-4fc1-b185-8583b1a051ca",
   "metadata": {},
   "outputs": [],
   "source": []
  },
  {
   "cell_type": "code",
   "execution_count": null,
   "id": "8bb7beba-7b0d-4e74-842e-d4d286cf76af",
   "metadata": {},
   "outputs": [],
   "source": []
  },
  {
   "cell_type": "markdown",
   "id": "0a8c4cd0-906f-40ea-b84f-0727e59b0e55",
   "metadata": {},
   "source": [
    "# Scalability analysis"
   ]
  },
  {
   "cell_type": "code",
   "execution_count": 53,
   "id": "841cc2b4-90f8-47f7-8c88-0094579d1df3",
   "metadata": {},
   "outputs": [
    {
     "ename": "NameError",
     "evalue": "name 'algorithm' is not defined",
     "output_type": "error",
     "traceback": [
      "\u001b[0;31m---------------------------------------------------------------------------\u001b[0m",
      "\u001b[0;31mNameError\u001b[0m                                 Traceback (most recent call last)",
      "Input \u001b[0;32mIn [53]\u001b[0m, in \u001b[0;36m<cell line: 3>\u001b[0;34m()\u001b[0m\n\u001b[1;32m      4\u001b[0m \u001b[38;5;28;01mfor\u001b[39;00m j \u001b[38;5;129;01min\u001b[39;00m \u001b[38;5;28mrange\u001b[39m(\u001b[38;5;241m4\u001b[39m):\n\u001b[1;32m      5\u001b[0m     timeold\u001b[38;5;241m=\u001b[39mtime\u001b[38;5;241m.\u001b[39mtime()\n\u001b[0;32m----> 6\u001b[0m     temp\u001b[38;5;241m=\u001b[39m\u001b[43malgorithm\u001b[49m(j,N\u001b[38;5;241m+\u001b[39mi)\n\u001b[1;32m      7\u001b[0m     times[i][j]\u001b[38;5;241m=\u001b[39mtime\u001b[38;5;241m.\u001b[39mtime()\u001b[38;5;241m-\u001b[39mtimeold\n",
      "\u001b[0;31mNameError\u001b[0m: name 'algorithm' is not defined"
     ]
    }
   ],
   "source": [
    "times=np.zeros([30,4])\n",
    "N=4\n",
    "for i in range(30):\n",
    "    for j in range(4):\n",
    "        timeold=time.time()\n",
    "        temp=algorithm(j,N+i)\n",
    "        times[i][j]=time.time()-timeold"
   ]
  },
  {
   "cell_type": "markdown",
   "id": "6e64703d-b0a6-45e4-a58a-9f68e0676b05",
   "metadata": {},
   "source": [
    "## Model 0 : W minimization"
   ]
  },
  {
   "cell_type": "code",
   "execution_count": 33,
   "id": "9ec98ae8-13a7-4edb-a61d-8f189c280b11",
   "metadata": {},
   "outputs": [
    {
     "name": "stdout",
     "output_type": "stream",
     "text": [
      "Linear score: 0.8770773428946552\n",
      "Quadratic score: 0.8878807523096336\n"
     ]
    }
   ],
   "source": [
    "lin = LinearRegression().fit(np.array([i for i in range(4,34)]).reshape(-1,1), times[0:30,0])\n",
    "print(\"Linear score:\",lin.score(np.array([i for i in range(4,34)]).reshape(-1,1),times[0:30,0]))\n",
    "quad = LinearRegression().fit(np.array([[i for i in range(4,34)],[i**2 for i in range(4,34)]]).T, times[0:30,0])\n",
    "print(\"Quadratic score:\", quad.score(np.array([[i for i in range(4,34)],[i**2 for i in range(4,34)]]).T,times[0:30,0]))"
   ]
  },
  {
   "cell_type": "markdown",
   "id": "acb44da4-095a-488d-a979-ce1791c18d21",
   "metadata": {},
   "source": [
    "Quadratic model is similar to linear model, so true model is approximately linear"
   ]
  },
  {
   "cell_type": "code",
   "execution_count": 34,
   "id": "0489c7bf-1d7c-4002-b940-841dce06df5f",
   "metadata": {},
   "outputs": [
    {
     "data": {
      "text/plain": [
       "[<matplotlib.lines.Line2D at 0x7fd5cf5a9100>]"
      ]
     },
     "execution_count": 34,
     "metadata": {},
     "output_type": "execute_result"
    },
    {
     "data": {
      "image/png": "[encoded data removed]",
      "text/plain": [
       "<Figure size 432x288 with 1 Axes>"
      ]
     },
     "metadata": {
      "needs_background": "light"
     },
     "output_type": "display_data"
    }
   ],
   "source": [
    "plt.plot([i for i in range(4,34)],times[0:30,0])\n",
    "plt.plot([i for i in range(4,34)],np.array([i for i in range(4,34)])*lin.coef_+lin.intercept_)"
   ]
  },
  {
   "cell_type": "markdown",
   "id": "30db2e9a-d643-4c2e-afd9-93778134f349",
   "metadata": {},
   "source": [
    "# Model 1: CL minimization"
   ]
  },
  {
   "cell_type": "code",
   "execution_count": 36,
   "id": "213d95e9-ba5f-4c29-8851-77a5c7717023",
   "metadata": {},
   "outputs": [
    {
     "name": "stdout",
     "output_type": "stream",
     "text": [
      "Linear score: 0.7797072413290047\n",
      "Quadratic score: 0.7802491390827204\n"
     ]
    }
   ],
   "source": [
    "lin = LinearRegression().fit(np.array([i for i in range(4,34)]).reshape(-1,1), times[0:30,1])\n",
    "print(\"Linear score:\",lin.score(np.array([i for i in range(4,34)]).reshape(-1,1),times[0:30,1]))\n",
    "quad = LinearRegression().fit(np.array([[i for i in range(4,34)],[i**2 for i in range(4,34)]]).T, times[0:30,1])\n",
    "print(\"Quadratic score:\", quad.score(np.array([[i for i in range(4,34)],[i**2 for i in range(4,34)]]).T,times[0:30,1]))"
   ]
  },
  {
   "cell_type": "markdown",
   "id": "a31a6e29-e9cc-49d2-b988-3ddab499d3c1",
   "metadata": {},
   "source": [
    "Quadratic model is similar to linear model, so true model is approximately linear"
   ]
  },
  {
   "cell_type": "code",
   "execution_count": null,
   "id": "66dd7578-3e2d-40ea-a083-2af306c80891",
   "metadata": {},
   "outputs": [],
   "source": []
  }
 ],
 "metadata": {
  "kernelspec": {
   "display_name": "Python 3 (ipykernel)",
   "language": "python",
   "name": "python3"
  },
  "language_info": {
   "codemirror_mode": {
    "name": "ipython",
    "version": 3
   },
   "file_extension": ".py",
   "mimetype": "text/x-python",
   "name": "python",
   "nbconvert_exporter": "python",
   "pygments_lexer": "ipython3",
   "version": "3.9.7"
  }
 },
 "nbformat": 4,
 "nbformat_minor": 5
}
